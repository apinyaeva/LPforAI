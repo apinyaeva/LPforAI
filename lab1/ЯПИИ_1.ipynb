{
 "cells": [
  {
   "cell_type": "markdown",
   "id": "232ca452-9e20-4c5e-8a15-e2c9360d7579",
   "metadata": {},
   "source": [
    "# ЯПдляИИ\n",
    "### Пиняева Анна Андреевна\n",
    "### НПИмд-01-24\n",
    "### 1132249572"
   ]
  },
  {
   "cell_type": "code",
   "execution_count": 1,
   "id": "2bee9a0a-d6c8-4a6e-a886-bffc8d6ae9cd",
   "metadata": {},
   "outputs": [
    {
     "name": "stderr",
     "output_type": "stream",
     "text": [
      "2024-11-28 15:18:15.771173: I tensorflow/core/platform/cpu_feature_guard.cc:210] This TensorFlow binary is optimized to use available CPU instructions in performance-critical operations.\n",
      "To enable the following instructions: AVX2 FMA, in other operations, rebuild TensorFlow with the appropriate compiler flags.\n"
     ]
    }
   ],
   "source": [
    "import tensorflow as tf\n",
    "from tensorflow.keras import layers, models\n",
    "import numpy as np\n",
    "import json\n",
    "from sklearn.model_selection import train_test_split\n",
    "from sklearn.utils import class_weight\n",
    "import matplotlib.pyplot as plt"
   ]
  },
  {
   "cell_type": "code",
   "execution_count": 2,
   "id": "0d81f097-5043-47e3-815e-ae117c58b52f",
   "metadata": {},
   "outputs": [],
   "source": [
    "path_to_annotations = '/Users/anna/Downloads/CLEVR_v1.0/scenes/CLEVR_train_scenes.json'\n",
    "with open(path_to_annotations, 'r') as f:\n",
    "    clevr_data = json.load(f)\n",
    "\n",
    "scenes = clevr_data['scenes']"
   ]
  },
  {
   "cell_type": "code",
   "execution_count": 3,
   "id": "c75c34e3-53f9-411f-81fa-ad59e9071709",
   "metadata": {},
   "outputs": [],
   "source": [
    "path_to_questions = '/Users/anna/Downloads/CLEVR_v1.0/questions/CLEVR_train_questions.json'\n",
    "with open(path_to_questions, 'r') as f:\n",
    "    clevr_questions = json.load(f)\n",
    "    \n",
    "questions = clevr_questions['questions']\n",
    "\n"
   ]
  },
  {
   "cell_type": "code",
   "execution_count": 4,
   "id": "0fbbca48-a143-46e8-9caf-0c0c5201d072",
   "metadata": {},
   "outputs": [
    {
     "name": "stdout",
     "output_type": "stream",
     "text": [
      "{'color': 'blue', 'size': 'large', 'rotation': 269.8517172617167, 'shape': 'cube', '3d_coords': [-1.3705521821975708, 2.0794010162353516, 0.699999988079071], 'material': 'rubber', 'pixel_coords': [269, 88, 12.661545753479004]}\n"
     ]
    }
   ],
   "source": [
    "# Проверим структуру одного объекта в сцене\n",
    "sample_scene = scenes[0]  # Выбираем первую сцену для примера\n",
    "print(sample_scene['objects'][0])  # Выводим первый объект в этой сцене"
   ]
  },
  {
   "cell_type": "code",
   "execution_count": 5,
   "id": "fa6d3ce5-c1cf-4361-9445-59edcec42d2d",
   "metadata": {},
   "outputs": [
    {
     "name": "stdout",
     "output_type": "stream",
     "text": [
      "{'image_index': 0, 'program': [{'inputs': [], 'function': 'scene', 'value_inputs': []}, {'inputs': [0], 'function': 'filter_size', 'value_inputs': ['large']}, {'inputs': [1], 'function': 'filter_color', 'value_inputs': ['green']}, {'inputs': [2], 'function': 'count', 'value_inputs': []}, {'inputs': [], 'function': 'scene', 'value_inputs': []}, {'inputs': [4], 'function': 'filter_size', 'value_inputs': ['large']}, {'inputs': [5], 'function': 'filter_color', 'value_inputs': ['purple']}, {'inputs': [6], 'function': 'filter_material', 'value_inputs': ['metal']}, {'inputs': [7], 'function': 'filter_shape', 'value_inputs': ['cube']}, {'inputs': [8], 'function': 'count', 'value_inputs': []}, {'inputs': [3, 9], 'function': 'greater_than', 'value_inputs': []}], 'question_index': 0, 'image_filename': 'CLEVR_train_000000.png', 'question_family_index': 2, 'split': 'train', 'answer': 'yes', 'question': 'Are there more big green things than large purple shiny cubes?'}\n"
     ]
    }
   ],
   "source": [
    "print(questions[0])  "
   ]
  },
  {
   "cell_type": "code",
   "execution_count": 6,
   "id": "3a64911e-27e7-44aa-a859-ab3d85d25986",
   "metadata": {},
   "outputs": [],
   "source": [
    "# 1. Предобработка данных\n",
    "def normalize_coordinates(data):\n",
    "    coords = np.array([obj for pair in data for obj in pair])\n",
    "    min_coords = coords.min(axis=0)\n",
    "    max_coords = coords.max(axis=0)\n",
    "    norm_data = (data - min_coords) / (max_coords - min_coords)\n",
    "    return norm_data\n",
    "\n",
    "def balance_classes(labels):\n",
    "    class_weights = class_weight.compute_class_weight('balanced', classes=np.unique(labels), y=labels)\n",
    "    class_weights_dict = dict(enumerate(class_weights))\n",
    "    return class_weights_dict"
   ]
  },
  {
   "cell_type": "code",
   "execution_count": 7,
   "id": "d5b5615f-3972-4f2d-9e36-151d01f3854d",
   "metadata": {},
   "outputs": [],
   "source": [
    "# Создание данных для задачи\n",
    "def create_relational_data_from_scenes(scenes):\n",
    "    object_pairs, labels = [], []\n",
    "    for scene in scenes:\n",
    "        objects = scene['objects']\n",
    "        for i in range(len(objects)):\n",
    "            for j in range(i + 1, len(objects)):\n",
    "                obj1 = np.array(objects[i]['3d_coords'])\n",
    "                obj2 = np.array(objects[j]['3d_coords'])\n",
    "                label = 1 if obj1[0] < obj2[0] else 0\n",
    "                object_pairs.append([obj1, obj2])\n",
    "                labels.append(label)\n",
    "    return np.array(object_pairs), np.array(labels)\n"
   ]
  },
  {
   "cell_type": "code",
   "execution_count": 8,
   "id": "1a121a63-1505-4c4b-a20d-251aca0983f3",
   "metadata": {},
   "outputs": [],
   "source": [
    "# Загрузка данных\n",
    "object_pairs, labels = create_relational_data_from_scenes(scenes)\n",
    "\n",
    "# Нормализация координат\n",
    "object_pairs = normalize_coordinates(object_pairs)\n"
   ]
  },
  {
   "cell_type": "code",
   "execution_count": 9,
   "id": "b1e850d3-019f-4eaf-8677-71ad3eb13c35",
   "metadata": {},
   "outputs": [],
   "source": [
    "# 3. Загрузка вопросов и соответствие сценам\n",
    "def parse_questions_and_answers(questions, scenes):\n",
    "    object_pairs, text_questions, labels = [], [], []\n",
    "    for q in questions:\n",
    "        image_idx = q['image_index']\n",
    "        question_text = q['question']\n",
    "        answer = 1 if q['answer'] == 'yes' else 0\n",
    "\n",
    "        # Получаем сцену по индексу\n",
    "        scene = scenes[image_idx]\n",
    "        objects = scene['objects']\n",
    "\n",
    "        for i in range(len(objects)):\n",
    "            for j in range(i + 1, len(objects)):\n",
    "                obj1 = np.array(objects[i]['3d_coords'])\n",
    "                obj2 = np.array(objects[j]['3d_coords'])\n",
    "                object_pairs.append([obj1, obj2])\n",
    "                text_questions.append(question_text)\n",
    "                labels.append(answer)\n",
    "\n",
    "    return np.array(object_pairs), text_questions, np.array(labels)\n"
   ]
  },
  {
   "cell_type": "code",
   "execution_count": 10,
   "id": "859d6208-924b-420f-903c-b1aaa54079ec",
   "metadata": {},
   "outputs": [],
   "source": [
    "# Извлечение пар объектов, вопросов и меток\n",
    "object_pairs, text_questions, labels = parse_questions_and_answers(questions, scenes)\n"
   ]
  },
  {
   "cell_type": "code",
   "execution_count": 11,
   "id": "050d3767-78ce-4a7c-8ce5-3bf4b7beff8e",
   "metadata": {},
   "outputs": [],
   "source": [
    "# 4. Токенизация текстов вопросов\n",
    "from tensorflow.keras.preprocessing.text import Tokenizer \n",
    "from tensorflow.keras.preprocessing.sequence import pad_sequences\n",
    "tokenizer = Tokenizer(num_words=1000)\n",
    "tokenizer.fit_on_texts(text_questions)\n",
    "\n",
    "# Преобразование текста в последовательности\n",
    "text_sequences = tokenizer.texts_to_sequences(text_questions)\n",
    "text_sequences = pad_sequences(text_sequences, maxlen=20)  # Задаем длину последовательностей\n",
    "\n",
    "# 5. Разделение данных на тренировочные и тестовые\n",
    "train_pairs, test_pairs, train_texts, test_texts, train_labels, test_labels = train_test_split(\n",
    "    object_pairs, text_sequences, labels, test_size=0.2\n",
    ")"
   ]
  },
  {
   "cell_type": "code",
   "execution_count": 12,
   "id": "72a045db-7969-4dc8-bc8a-2f47330e1005",
   "metadata": {},
   "outputs": [],
   "source": [
    "# 6. Веса классов\n",
    "class_weights = balance_classes(train_labels)"
   ]
  },
  {
   "cell_type": "code",
   "execution_count": 13,
   "id": "e7bab21e-8bca-43ff-82d8-57b9859cb3c1",
   "metadata": {},
   "outputs": [],
   "source": [
    "# 7. Модель с добавлением вопросов (VQA)\n",
    "def positional_encoding(max_positions, d_model):\n",
    "    \"\"\"Функция для генерации позиционного кодирования.\"\"\"\n",
    "    pos = np.arange(max_positions)[:, np.newaxis]\n",
    "    i = np.arange(d_model)[np.newaxis, :]\n",
    "    angle_rates = 1 / np.power(10000, (2 * (i // 2)) / np.float32(d_model))\n",
    "    angle_rads = pos * angle_rates\n",
    "    angle_rads[:, 0::2] = np.sin(angle_rads[:, 0::2])\n",
    "    angle_rads[:, 1::2] = np.cos(angle_rads[:, 1::2])\n",
    "    return tf.constant(angle_rads, dtype=tf.float32)\n",
    "\n",
    "class PositionalEncodingLayer(layers.Layer):\n",
    "    \"\"\"Слой для добавления позиционного кодирования.\"\"\"\n",
    "    def __init__(self, position, d_model):\n",
    "        super(PositionalEncodingLayer, self).__init__()\n",
    "        self.position_encoding = positional_encoding(position, d_model)\n",
    "\n",
    "    def call(self, inputs):\n",
    "        return inputs + self.position_encoding[:tf.shape(inputs)[1], :]\n",
    "\n",
    "def transformer_encoder(inputs, head_size, num_heads, ff_dim, dropout=0.1):\n",
    "    x = layers.MultiHeadAttention(key_dim=head_size, num_heads=num_heads, dropout=dropout)(inputs, inputs)\n",
    "    x = layers.Dropout(dropout)(x)\n",
    "    x = layers.LayerNormalization(epsilon=1e-6)(x)\n",
    "    res = x + inputs\n",
    "\n",
    "    x = layers.Conv1D(filters=ff_dim, kernel_size=1, activation=\"relu\")(res)\n",
    "    x = layers.Dropout(dropout)(x)\n",
    "    x = layers.Conv1D(filters=inputs.shape[-1], kernel_size=1)(x)\n",
    "    return layers.LayerNormalization(epsilon=1e-6)(x + res)\n",
    "\n",
    "def build_vqa_model(object_input_shape, text_input_shape, head_size, num_heads, ff_dim, num_transformer_blocks, mlp_units, dropout=0.1, mlp_dropout=0.1):\n",
    "    # Вход для объектов\n",
    "    object_inputs = layers.Input(shape=object_input_shape)\n",
    "    x1 = PositionalEncodingLayer(position=object_input_shape[0], d_model=object_input_shape[-1])(object_inputs)\n",
    "    for _ in range(num_transformer_blocks):\n",
    "        x1 = transformer_encoder(x1, head_size, num_heads, ff_dim, dropout)\n",
    "    x1 = layers.GlobalAveragePooling1D()(x1)\n",
    "\n",
    "    # Вход для текста\n",
    "    text_inputs = layers.Input(shape=text_input_shape)\n",
    "    x2 = layers.Embedding(input_dim=1000, output_dim=128, input_length=text_input_shape[0])(text_inputs)\n",
    "    x2 = layers.LSTM(128)(x2)\n",
    "\n",
    "    # Объединение двух входов\n",
    "    combined = layers.Concatenate()([x1, x2])\n",
    "    for dim in mlp_units:\n",
    "        combined = layers.Dense(dim, activation=\"relu\")(combined)\n",
    "        combined = layers.Dropout(mlp_dropout)(combined)\n",
    "    outputs = layers.Dense(1, activation=\"sigmoid\")(combined)\n",
    "\n",
    "    return models.Model(inputs=[object_inputs, text_inputs], outputs=outputs)\n"
   ]
  },
  {
   "cell_type": "code",
   "execution_count": 14,
   "id": "1c02ed03-6c5e-4a4f-a8df-55e3d5a98870",
   "metadata": {},
   "outputs": [
    {
     "name": "stderr",
     "output_type": "stream",
     "text": [
      "/Library/Frameworks/Python.framework/Versions/3.12/lib/python3.12/site-packages/keras/src/layers/core/embedding.py:90: UserWarning: Argument `input_length` is deprecated. Just remove it.\n",
      "  warnings.warn(\n"
     ]
    }
   ],
   "source": [
    "# Построение модели\n",
    "model = build_vqa_model(\n",
    "    object_input_shape=(2, 3),\n",
    "    text_input_shape=(20,),  # Максимальная длина текста\n",
    "    head_size=64,\n",
    "    num_heads=4,\n",
    "    ff_dim=128,\n",
    "    num_transformer_blocks=3,\n",
    "    mlp_units=[256, 128],\n",
    "    dropout=0.2,\n",
    "    mlp_dropout=0.2\n",
    ")\n",
    "\n",
    "# Компиляция модели\n",
    "model.compile(loss=\"binary_crossentropy\", optimizer=\"adam\", metrics=[\"accuracy\", tf.keras.metrics.AUC()])\n"
   ]
  },
  {
   "cell_type": "code",
   "execution_count": 15,
   "id": "332baa97-ce72-427f-b32e-19be488d4a9f",
   "metadata": {},
   "outputs": [
    {
     "name": "stdout",
     "output_type": "stream",
     "text": [
      "Epoch 1/15\n",
      "\u001b[1m500/500\u001b[0m \u001b[32m━━━━━━━━━━━━━━━━━━━━\u001b[0m\u001b[37m\u001b[0m \u001b[1m324s\u001b[0m 621ms/step - accuracy: 0.7883 - auc: 0.8640 - loss: 0.3786 - val_accuracy: 0.8009 - val_auc: 0.8883 - val_loss: 0.3856\n",
      "Epoch 2/15\n",
      "\u001b[1m500/500\u001b[0m \u001b[32m━━━━━━━━━━━━━━━━━━━━\u001b[0m\u001b[37m\u001b[0m \u001b[1m377s\u001b[0m 756ms/step - accuracy: 0.8059 - auc: 0.8886 - loss: 0.3200 - val_accuracy: 0.8059 - val_auc: 0.8985 - val_loss: 0.3475\n",
      "Epoch 3/15\n",
      "\u001b[1m500/500\u001b[0m \u001b[32m━━━━━━━━━━━━━━━━━━━━\u001b[0m\u001b[37m\u001b[0m \u001b[1m416s\u001b[0m 833ms/step - accuracy: 0.8049 - auc: 0.8984 - loss: 0.3163 - val_accuracy: 0.8077 - val_auc: 0.9081 - val_loss: 0.3699\n",
      "Epoch 4/15\n",
      "\u001b[1m500/500\u001b[0m \u001b[32m━━━━━━━━━━━━━━━━━━━━\u001b[0m\u001b[37m\u001b[0m \u001b[1m5571s\u001b[0m 11s/step - accuracy: 0.8103 - auc: 0.9079 - loss: 0.3079 - val_accuracy: 0.8142 - val_auc: 0.9112 - val_loss: 0.3431\n",
      "Epoch 5/15\n",
      "\u001b[1m500/500\u001b[0m \u001b[32m━━━━━━━━━━━━━━━━━━━━\u001b[0m\u001b[37m\u001b[0m \u001b[1m329s\u001b[0m 659ms/step - accuracy: 0.8125 - auc: 0.9096 - loss: 0.3070 - val_accuracy: 0.8128 - val_auc: 0.9120 - val_loss: 0.3721\n",
      "Epoch 6/15\n",
      "\u001b[1m500/500\u001b[0m \u001b[32m━━━━━━━━━━━━━━━━━━━━\u001b[0m\u001b[37m\u001b[0m \u001b[1m290s\u001b[0m 582ms/step - accuracy: 0.8151 - auc: 0.9103 - loss: 0.3052 - val_accuracy: 0.8136 - val_auc: 0.9122 - val_loss: 0.3443\n",
      "Epoch 7/15\n",
      "\u001b[1m500/500\u001b[0m \u001b[32m━━━━━━━━━━━━━━━━━━━━\u001b[0m\u001b[37m\u001b[0m \u001b[1m289s\u001b[0m 578ms/step - accuracy: 0.8142 - auc: 0.9120 - loss: 0.3030 - val_accuracy: 0.8159 - val_auc: 0.9140 - val_loss: 0.3568\n",
      "Epoch 8/15\n",
      "\u001b[1m500/500\u001b[0m \u001b[32m━━━━━━━━━━━━━━━━━━━━\u001b[0m\u001b[37m\u001b[0m \u001b[1m288s\u001b[0m 577ms/step - accuracy: 0.8172 - auc: 0.9135 - loss: 0.3002 - val_accuracy: 0.8149 - val_auc: 0.9136 - val_loss: 0.3332\n",
      "Epoch 9/15\n",
      "\u001b[1m500/500\u001b[0m \u001b[32m━━━━━━━━━━━━━━━━━━━━\u001b[0m\u001b[37m\u001b[0m \u001b[1m288s\u001b[0m 577ms/step - accuracy: 0.8143 - auc: 0.9107 - loss: 0.3034 - val_accuracy: 0.8142 - val_auc: 0.9140 - val_loss: 0.3493\n",
      "Epoch 10/15\n",
      "\u001b[1m500/500\u001b[0m \u001b[32m━━━━━━━━━━━━━━━━━━━━\u001b[0m\u001b[37m\u001b[0m \u001b[1m297s\u001b[0m 594ms/step - accuracy: 0.8138 - auc: 0.9126 - loss: 0.3017 - val_accuracy: 0.8149 - val_auc: 0.9139 - val_loss: 0.3507\n",
      "Epoch 11/15\n",
      "\u001b[1m500/500\u001b[0m \u001b[32m━━━━━━━━━━━━━━━━━━━━\u001b[0m\u001b[37m\u001b[0m \u001b[1m301s\u001b[0m 602ms/step - accuracy: 0.8149 - auc: 0.9121 - loss: 0.3006 - val_accuracy: 0.8159 - val_auc: 0.9142 - val_loss: 0.3366\n",
      "Epoch 12/15\n",
      "\u001b[1m500/500\u001b[0m \u001b[32m━━━━━━━━━━━━━━━━━━━━\u001b[0m\u001b[37m\u001b[0m \u001b[1m308s\u001b[0m 616ms/step - accuracy: 0.8161 - auc: 0.9139 - loss: 0.2979 - val_accuracy: 0.8166 - val_auc: 0.9145 - val_loss: 0.3432\n",
      "Epoch 13/15\n",
      "\u001b[1m500/500\u001b[0m \u001b[32m━━━━━━━━━━━━━━━━━━━━\u001b[0m\u001b[37m\u001b[0m \u001b[1m313s\u001b[0m 627ms/step - accuracy: 0.8162 - auc: 0.9124 - loss: 0.2998 - val_accuracy: 0.8176 - val_auc: 0.9144 - val_loss: 0.3522\n"
     ]
    }
   ],
   "source": [
    "# 8. Обучение модели с использованием EarlyStopping\n",
    "early_stopping = tf.keras.callbacks.EarlyStopping(patience=5, restore_best_weights=True)\n",
    "\n",
    "history = model.fit(\n",
    "    [train_pairs, train_texts], train_labels,\n",
    "    epochs=15,\n",
    "    batch_size=512,\n",
    "    validation_split=0.2,\n",
    "    class_weight=class_weights,\n",
    "    callbacks=[early_stopping],\n",
    "    steps_per_epoch=500  \n",
    "\n",
    ")"
   ]
  },
  {
   "cell_type": "code",
   "execution_count": 16,
   "id": "8202b407-47bb-49fb-b8c5-5139d7510acf",
   "metadata": {},
   "outputs": [
    {
     "name": "stdout",
     "output_type": "stream",
     "text": [
      "\u001b[1m89966/89966\u001b[0m \u001b[32m━━━━━━━━━━━━━━━━━━━━\u001b[0m\u001b[37m\u001b[0m \u001b[1m810s\u001b[0m 9ms/step - accuracy: 0.8148 - auc: 0.9134 - loss: 0.3333\n",
      "Test Accuracy: 0.8146\n",
      "Test AUC: 0.9133\n"
     ]
    }
   ],
   "source": [
    "# 9. Оценка модели\n",
    "test_loss, test_accuracy, test_auc = model.evaluate([test_pairs, test_texts], test_labels)\n",
    "print(f\"Test Accuracy: {test_accuracy:.4f}\")\n",
    "print(f\"Test AUC: {test_auc:.4f}\")"
   ]
  },
  {
   "cell_type": "code",
   "execution_count": 17,
   "id": "80acd05b-0d2d-4849-94a9-b68f007477ad",
   "metadata": {},
   "outputs": [
    {
     "data": {
      "image/png": "[encoded data removed]",
      "text/plain": [
       "<Figure size 1200x600 with 1 Axes>"
      ]
     },
     "metadata": {},
     "output_type": "display_data"
    }
   ],
   "source": [
    "# 10. Графики обучения\n",
    "plt.figure(figsize=(12, 6))\n",
    "plt.plot(history.history['accuracy'], label='Train Accuracy')\n",
    "plt.plot(history.history['val_accuracy'], label='Val Accuracy')\n",
    "plt.plot(history.history['auc'], label='Train AUC')\n",
    "plt.plot(history.history['val_auc'], label='Val AUC')\n",
    "plt.title('Training and Validation Accuracy & AUC')\n",
    "plt.xlabel('Epochs')\n",
    "plt.ylabel('Accuracy / AUC')\n",
    "plt.legend()\n",
    "plt.show()"
   ]
  },
  {
   "cell_type": "code",
   "execution_count": null,
   "id": "3f59d2ca-1626-4f52-bfb1-cc48d747ed85",
   "metadata": {},
   "outputs": [],
   "source": []
  }
 ],
 "metadata": {
  "kernelspec": {
   "display_name": "Python 3 (ipykernel)",
   "language": "python",
   "name": "python3"
  },
  "language_info": {
   "codemirror_mode": {
    "name": "ipython",
    "version": 3
   },
   "file_extension": ".py",
   "mimetype": "text/x-python",
   "name": "python",
   "nbconvert_exporter": "python",
   "pygments_lexer": "ipython3",
   "version": "3.12.1"
  }
 },
 "nbformat": 4,
 "nbformat_minor": 5
}
